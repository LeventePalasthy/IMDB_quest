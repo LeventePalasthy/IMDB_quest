{
  "nbformat": 4,
  "nbformat_minor": 0,
  "metadata": {
    "colab": {
      "name": "IMDB_quest.ipynb",
      "provenance": [],
      "authorship_tag": "ABX9TyPbzGFC5iagBGli57ieQlHs"
    },
    "kernelspec": {
      "name": "python3",
      "display_name": "Python 3"
    },
    "language_info": {
      "name": "python"
    }
  },
  "cells": [
    {
      "cell_type": "code",
      "source": [
        ""
      ],
      "metadata": {
        "id": "9uQou9By3Ges"
      },
      "execution_count": null,
      "outputs": []
    }
  ]
}