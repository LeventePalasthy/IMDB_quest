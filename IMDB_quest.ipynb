{
  "nbformat": 4,
  "nbformat_minor": 0,
  "metadata": {
    "colab": {
      "name": "IMDB_quest.ipynb",
      "provenance": [],
      "collapsed_sections": [],
      "authorship_tag": "ABX9TyP6/lYjjgQVJZelvuOkQmxx"
    },
    "kernelspec": {
      "name": "python3",
      "display_name": "Python 3"
    },
    "language_info": {
      "name": "python"
    }
  },
  "cells": [
    {
      "cell_type": "code",
      "source": [
        "from bs4 import BeautifulSoup\n",
        "import requests\n",
        "import re\n",
        "import pandas as pd\n",
        "import math\n",
        "import numpy as np"
      ],
      "metadata": {
        "id": "9uQou9By3Ges"
      },
      "execution_count": 58,
      "outputs": []
    },
    {
      "cell_type": "code",
      "source": [
        "# Scrapes the given URL, selects the desired data and returns it in a Pandas DataFrame\n",
        "# Based on: https://www.geeksforgeeks.org/scrape-imdb-movie-rating-and-details-using-python/\n",
        "def scraper():\n",
        "  url = 'http://www.imdb.com/chart/top'\n",
        "  response = requests.get(url)\n",
        "  soup = BeautifulSoup(response.text, \"html.parser\")\n",
        "\n",
        "  # Selecting the desired data from the site\n",
        "  movies = soup.select('td.titleColumn')\n",
        "  ratings = [b.attrs.get('data-value') for b in soup.select('td.posterColumn span[name=ir]')]\n",
        "  number_of_ratings = [c.attrs.get('data-value') for c in soup.select('td.posterColumn span[name=nv]')]\n",
        "\n",
        "  # Building the DataFrame from a list of dictionaries containing the data\n",
        "  list = []\n",
        "  for index in range(20):\n",
        "      movie_string = movies[index].get_text()\n",
        "      movie = (' '.join(movie_string.split()).replace('.', ''))\n",
        "      movie_title = movie[len(str(index))+1:-7]\n",
        "      data = {\"movie_title\": movie_title,\n",
        "              \"rating\": round(float(ratings[index]),1),\n",
        "              \"number_of_ratings\": pd.to_numeric(number_of_ratings[index])\n",
        "              }\n",
        "      list.append(data)\n",
        "  df = pd.DataFrame(list)\n",
        "  return df\n",
        "\n",
        "# Punishes movies for having less ratings\n",
        "# Finds the maximum number of ratings then substracts 0.1 penalty from \n",
        "# each movie per 100k less ratings than the maximum\n",
        "def review_penalizer(movies):\n",
        "  max = movies['number_of_ratings'].max()\n",
        "  movies['adjusted_rating'] = movies['rating'] -((max - movies['number_of_ratings'])/100000).apply(np.floor)/10"
      ],
      "metadata": {
        "id": "i_wpnJT8-Vy1"
      },
      "execution_count": 70,
      "outputs": []
    },
    {
      "cell_type": "code",
      "source": [
        "df = scraper()\n",
        "review_penalizer(df)\n",
        "df"
      ],
      "metadata": {
        "id": "lvFxylwpZ4H2"
      },
      "execution_count": null,
      "outputs": []
    }
  ]
}